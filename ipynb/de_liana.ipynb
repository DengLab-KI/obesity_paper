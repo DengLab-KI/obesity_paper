{
 "cells": [
  {
   "cell_type": "code",
   "execution_count": null,
   "metadata": {},
   "outputs": [],
   "source": [
    "import numpy as np\n",
    "import pandas as pd\n",
    "import scanpy as sc\n",
    "\n",
    "import plotnine as p9\n",
    "\n",
    "import liana as li\n",
    "import decoupler as dc\n",
    "import omnipath as op\n",
    "import matplotlib\n",
    "import os"
   ]
  },
  {
   "cell_type": "code",
   "execution_count": null,
   "metadata": {},
   "outputs": [],
   "source": [
    "from matplotlib import rcParams\n",
    "\n",
    "custom_params = {\"axes.spines.right\": False, \"axes.spines.top\": False}\n",
    "rcParams['font.family'] = 'sans-serif'\n",
    "matplotlib.rcParams['font.sans-serif'] = ['Arial']\n",
    "matplotlib.rcParams['pdf.fonttype'] = 42\n",
    "matplotlib.rcParams['ps.fonttype'] = 42\n",
    "import seaborn as sns\n",
    "sns.set_theme(style=\"ticks\", rc=custom_params)\n",
    "import importlib\n",
    "importlib.reload(li)\n",
    "# verbosity: errors (0), warnings (1), info (2), hints (3)\n",
    "sc.settings.verbosity = 3\n",
    "sc.logging.print_header()\n",
    "mycmap = matplotlib.colors.LinearSegmentedColormap.from_list('mycmap', [\"#004369\", \"white\", \"#DB1F48\"])\n",
    "sc.set_figure_params(dpi=900, color_map=\"bwr\")\n",
    "%matplotlib inline\n"
   ]
  },
  {
   "cell_type": "code",
   "execution_count": 3,
   "metadata": {},
   "outputs": [],
   "source": [
    "os.chdir('/mnt/data/hong/2022/DHJ1_human_obesity_placenta/')\n",
    "adata = sc.read_h5ad('output/10x_h5/h5ad/ad_v2.h5ad')"
   ]
  },
  {
   "cell_type": "code",
   "execution_count": 4,
   "metadata": {},
   "outputs": [],
   "source": [
    "naga = adata[adata.obs['group']=='Normal_AGA']"
   ]
  },
  {
   "cell_type": "code",
   "execution_count": 5,
   "metadata": {},
   "outputs": [],
   "source": [
    "naga.X = naga.layers['log_norm'].copy()"
   ]
  },
  {
   "cell_type": "code",
   "execution_count": 6,
   "metadata": {},
   "outputs": [],
   "source": [
    "dea_df = pd.read_csv('output/communication/all_de_ccc_input.tsv', sep='\\t')"
   ]
  },
  {
   "cell_type": "code",
   "execution_count": 13,
   "metadata": {},
   "outputs": [],
   "source": [
    "dea_df_lr = dea_df[~dea_df['final_celltypes'].isin(['B cells', 'EVT', 'eSTB', 'pCTB', 'Endo-2', 'Myofibroblast', 'T cells', 'NK cells', 'B cells', 'Monocyte'])]"
   ]
  },
  {
   "cell_type": "code",
   "execution_count": 14,
   "metadata": {},
   "outputs": [],
   "source": [
    "dea_df_lr = dea_df_lr.set_index('Unnamed: 0')"
   ]
  },
  {
   "cell_type": "code",
   "execution_count": 16,
   "metadata": {},
   "outputs": [
    {
     "name": "stderr",
     "output_type": "stream",
     "text": [
      "Using resource `consensus`.\n",
      "Using `.X`!\n",
      "1307 features of mat are empty, they will be removed.\n",
      "/mnt/data/hong/anaconda3/envs/scanpy/lib/python3.10/site-packages/liana/method/_pipe_utils/_pre.py:148: ImplicitModificationWarning: Trying to modify attribute `.obs` of view, initializing view as actual.\n",
      "0.81 of entities in the resource are missing from the data.\n"
     ]
    }
   ],
   "source": [
    "lr_res = li.multi.df_to_lr(naga,\n",
    "                           dea_df=dea_df_lr,\n",
    "                           resource_name='consensus',\n",
    "                           expr_prop=0, # calculated for adata as passed - used to filter interactions\n",
    "                           groupby='final_celltypes',\n",
    "                           stat_keys=['score', 'p'],\n",
    "                           use_raw=False,\n",
    "                           complex_col='score', \n",
    "                           verbose=True,\n",
    "                           return_all_lrs=False,\n",
    "                           )"
   ]
  },
  {
   "cell_type": "code",
   "execution_count": 18,
   "metadata": {},
   "outputs": [],
   "source": [
    "lr_res.to_csv('output/communication/all_de_intravillous_lr_major.tsv', sep='\\t')"
   ]
  },
  {
   "cell_type": "code",
   "execution_count": null,
   "metadata": {},
   "outputs": [],
   "source": []
  }
 ],
 "metadata": {
  "kernelspec": {
   "display_name": "scanpy",
   "language": "python",
   "name": "python3"
  },
  "language_info": {
   "codemirror_mode": {
    "name": "ipython",
    "version": 3
   },
   "file_extension": ".py",
   "mimetype": "text/x-python",
   "name": "python",
   "nbconvert_exporter": "python",
   "pygments_lexer": "ipython3",
   "version": "3.10.8"
  }
 },
 "nbformat": 4,
 "nbformat_minor": 2
}
