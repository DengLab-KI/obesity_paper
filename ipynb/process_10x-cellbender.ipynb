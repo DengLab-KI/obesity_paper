{
 "cells": [
  {
   "cell_type": "code",
   "execution_count": null,
   "id": "bfae4922",
   "metadata": {},
   "outputs": [],
   "source": [
    "import pandas as pd\n",
    "import scanpy as sc\n",
    "import anndata as ad\n",
    "# add local forder to python lib ## why it's not working here but works in command line?\n",
    "import importlib\n",
    "from sc_utils import scanpy_utils as su\n",
    "import numpy as np\n",
    "import os\n",
    "import re\n",
    "import matplotlib.pyplot as plt\n",
    "import pickle\n",
    "import seaborn as sns\n",
    "from matplotlib.pyplot import rc_context\n",
    "import numpy as np\n",
    "import scipy.sparse as sp\n",
    "import anndata\n",
    "from typing import Dict, Optional\n",
    "from collections import defaultdict\n",
    "import itertools\n",
    "import pygame\n",
    "from matplotlib import cm\n",
    "import seaborn as sns\n",
    "from collections import Counter\n"
   ]
  },
  {
   "cell_type": "code",
   "execution_count": null,
   "id": "b3acd871-68f9-4724-8890-95e815e51fe4",
   "metadata": {
    "tags": []
   },
   "outputs": [],
   "source": [
    "custom_params = {\"axes.spines.right\": False, \"axes.spines.top\": False}\n",
    "from matplotlib import rcParams\n",
    "rcParams['font.family'] = 'sans-serif'\n",
    "matplotlib.rcParams['font.sans-serif'] = ['Arial']\n",
    "matplotlib.rcParams['pdf.fonttype'] = 42\n",
    "matplotlib.rcParams['ps.fonttype'] = 42\n",
    "sns.set_theme(style=\"ticks\", rc=custom_params)\n",
    "matplotlib.rcParams['figure.figsize'] = [6, 5]\n"
   ]
  },
  {
   "cell_type": "code",
   "execution_count": null,
   "id": "a64dcdd1-a18e-42cd-a643-e9fff42553e3",
   "metadata": {
    "collapsed": true,
    "jupyter": {
     "outputs_hidden": true
    },
    "tags": []
   },
   "outputs": [],
   "source": [
    "## check versions\n",
    "## testing stage, with high verbosity\n",
    "sc.settings.verbosity = 3  # verbosity: errors (0), warnings (1), info (2), hints (3)\n",
    "sc.logging.print_header()\n",
    "sc.set_figure_params(dpi=900, color_map = 'viridis_r')"
   ]
  },
  {
   "cell_type": "code",
   "execution_count": null,
   "id": "874a8d37-bae7-44f1-82b1-52a1f57362d9",
   "metadata": {
    "tags": []
   },
   "outputs": [],
   "source": [
    "%matplotlib inline"
   ]
  },
  {
   "cell_type": "code",
   "execution_count": null,
   "id": "c86b1848-d835-4430-af1a-bb37d77af6f9",
   "metadata": {
    "collapsed": true,
    "jupyter": {
     "outputs_hidden": true
    },
    "tags": []
   },
   "outputs": [],
   "source": [
    "project_name = 'obese_placenta'\n",
    "workdir = '/mnt/data/hong/2022/DHJ1_human_obesity_placenta/'\n",
    "h5dir = f'{workdir}output/cellbender'\n",
    "os.chdir(workdir)\n",
    "\n",
    "filter_params = {\n",
    "    'min_counts':400, 'min_genes':200, 'max_genes' : 5000, 'percent_mt':5, 'percent':3, 'filter_mt':True\n",
    "}\n",
    "\n",
    "raw_dict = defaultdict(lambda: \"Not Present\")\n",
    "no_doublet_dict = defaultdict(lambda: \"Not Present\")\n",
    "filter_dict = defaultdict(lambda: \"Not Present\")\n",
    "\n",
    "group = {'Normal_AGA': ['placenta_60', 'placenta_226', 'placenta_248', 'placenta_357', 'placenta_314'], \n",
    "         'Obese_AGA': ['placenta_32', 'placenta_81', 'placenta_306', 'placenta_373'], \n",
    "         'Obese_LGA': ['placenta_25', 'placenta_40', 'placenta_303', 'placenta_312', 'placenta_330']}\n",
    "group_inv = defaultdict()\n",
    "for k, v in group.items():\n",
    "    for vi in v:\n",
    "        group_inv[vi] = k\n",
    "        \n",
    "for root, sample_list, filenames in os.walk(f'{h5dir}'):\n",
    "    for sample_name in sample_list:\n",
    "        if sample_name.startswith('placenta_'):\n",
    "            raw_dict[sample_name] = su.anndata_from_h5(f'{h5dir}/{sample_name}/{sample_name}_cellbender_filtered.h5')\n",
    "## given sample order by group\n",
    "sample_list = list(itertools.chain(*list(group.values())))\n",
    "for sample_name in sample_list:\n",
    "    raw_dict[sample_name] = su.anndata_from_h5(f'{h5dir}/{sample_name}/{sample_name}_cellbender_filtered.h5')"
   ]
  },
  {
   "cell_type": "code",
   "execution_count": null,
   "id": "eaf40836-12ee-47b9-99d4-82a40824c68b",
   "metadata": {
    "tags": []
   },
   "outputs": [],
   "source": [
    "## check hgb and individual specific clusters\n",
    "ad_all = sc.read_h5ad('output/10x_h5/h5ad/ad_v0.1.h5ad')"
   ]
  },
  {
   "cell_type": "code",
   "execution_count": null,
   "metadata": {},
   "outputs": [],
   "source": [
    "batch_tab = pd.crosstab(ad_all.obs['batch'], [ad_all.obs['group'], ad_all.obs['sex']])"
   ]
  },
  {
   "cell_type": "code",
   "execution_count": null,
   "metadata": {},
   "outputs": [],
   "source": [
    "with pd.ExcelWriter('samples/batch.xlsx') as writer:\n",
    "    batch_tab.to_excel(writer)"
   ]
  },
  {
   "cell_type": "code",
   "execution_count": null,
   "id": "275b3656-407e-482a-a24a-a70db5c9a377",
   "metadata": {
    "tags": []
   },
   "outputs": [],
   "source": [
    "sum_nuclei = 0\n",
    "for k,v in raw_dict.items():\n",
    "    if not k in ['placenta_226', 'placenta_40']:\n",
    "        sum_nuclei += v.n_obs\n",
    "sum_nuclei"
   ]
  },
  {
   "cell_type": "code",
   "execution_count": null,
   "id": "a4826784-57da-495b-b834-feb8bbf2cc3e",
   "metadata": {
    "collapsed": true,
    "jupyter": {
     "outputs_hidden": true
    },
    "tags": []
   },
   "outputs": [],
   "source": [
    "doublet_params = {\n",
    "    'placenta_314':0.09, 'placenta_40':0.09, 'placenta_248' : 0.14, 'placenta_25':0.12, \n",
    "    'placenta_226':0.12, 'placenta_60':0.15, 'placenta_373':0.11, 'placenta_32':0.12, 'placenta_303':0.12,\n",
    "    'placenta_357':0.14, 'placenta_312':0.13, 'placenta_306':0.12, 'placenta_330':0.13, 'placenta_81': 0.14\n",
    "}\n",
    "for sample_name, sample in raw_dict.items():\n",
    "    sample.var_names_make_unique('+')\n",
    "    sc.external.pp.scrublet(sample, threshold=doublet_params[sample_name])\n",
    "    # su.doublet_plot(sample_name, sample)"
   ]
  },
  {
   "cell_type": "code",
   "execution_count": null,
   "id": "97d2f173-bfac-4b28-a8af-0cb8a1608e20",
   "metadata": {
    "tags": []
   },
   "outputs": [],
   "source": [
    "for sample_name, sample in raw_dict.items():\n",
    "    doublet = np.array(sample.obs['predicted_doublet'], dtype=bool)\n",
    "    no_doublet_dict[sample_name] = sample[~doublet]\n",
    "for sample_name, sample in no_doublet_dict.items():\n",
    "    su.qc(sample, f'{sample_name}_no_doublet', 'MT', basedir=workdir)\n",
    "    filter_dict[sample_name] = su.filter_adata(sample, **filter_params)\n",
    "ad_all = ad.concat(list(filter_dict.values()), label='sample', keys=list(filter_dict.keys()), join='outer', index_unique='-', merge='same')"
   ]
  },
  {
   "cell_type": "code",
   "execution_count": null,
   "id": "d77d40a6-7354-4fc0-8f4b-6f69abea8787",
   "metadata": {
    "tags": []
   },
   "outputs": [],
   "source": [
    "sample_list_use = list(itertools.chain(*list(group.values())))\n",
    "for sample_nouse in ['placenta_226', 'placenta_40']:\n",
    "    sample_list_use.remove(sample_nouse)"
   ]
  },
  {
   "cell_type": "code",
   "execution_count": null,
   "id": "be33e66e-e561-4cbd-8728-cbe3b152bc7e",
   "metadata": {
    "tags": []
   },
   "outputs": [],
   "source": [
    "su.qc(ad_all, f'{project_name}_use_cluster', 'MT', order=sample_list_use, batch_key='sample')"
   ]
  },
  {
   "cell_type": "code",
   "execution_count": null,
   "id": "0196f15b-c246-4f4d-b72a-dab9d277af80",
   "metadata": {
    "tags": []
   },
   "outputs": [],
   "source": [
    "cell_count_df = ad_all.obs.groupby('sample')['sample'].count()\n",
    "cell_count_df = cell_count_df.to_frame()\n",
    "cell_count_df.columns = ['count']\n"
   ]
  },
  {
   "cell_type": "code",
   "execution_count": null,
   "id": "1663bd71",
   "metadata": {},
   "outputs": [],
   "source": [
    "obs_df = ad_all.obs[['sample', 'group', 'sex']]\n",
    "## unique rows of obs_df\n",
    "obs_df = obs_df.drop_duplicates()"
   ]
  },
  {
   "cell_type": "code",
   "execution_count": null,
   "id": "eb33ae66",
   "metadata": {},
   "outputs": [],
   "source": [
    "## order cell_count_df_anno by group and sex\n",
    "obs_df.sort_values([\"group\", \"sex\"],\n",
    "               axis=0, ascending=True,\n",
    "               inplace=True,\n",
    "               na_position=\"first\")\n"
   ]
  },
  {
   "cell_type": "code",
   "execution_count": null,
   "id": "08a1539a",
   "metadata": {},
   "outputs": [],
   "source": [
    "## sc violinplot n_genes by sample\n",
    "# ad_all.obs['n_genes'] = pd.to_numeric(ad_all.obs['n_genes'] )\n",
    "sc.set_figure_params(scanpy=True, dpi=80, dpi_save=900, frameon=False, vector_friendly=True, fontsize=14, figsize=(12, 4), color_map=None, format='pdf', facecolor=None, transparent=True, ipython_format='png2x')\n",
    "sc.pl.violin(ad_all, keys='n_genes', groupby='sample', rotation=90, order = cell_count_df_anno['sample'], stripplot=False, save=f'{project_name}_n_genes.pdf')\n"
   ]
  },
  {
   "cell_type": "code",
   "execution_count": null,
   "id": "5d9dd410",
   "metadata": {},
   "outputs": [],
   "source": [
    "fig = plt.subplots(figsize=(12,4))\n",
    "bp = sns.barplot(cell_count_df_anno, x='sample', y='count', palette=np.array(['#1f77b4', '#ff7f0e', '#279e68', '#d62728', '#aa40fc', '#8c564b',\n",
    "       '#e377c2', '#b5bd61', '#17becf', '#aec7e8', '#ffbb78', '#98df8a'])[[9,10,5,7,0,2,8,11,3,6,4,1]], order=cell_count_df_anno['sample'])\n",
    "bp.set(xlabel=None)\n",
    "fig = bp.get_figure()\n",
    "fig.savefig('figures/sample/cell_count_final.pdf')\n"
   ]
  },
  {
   "cell_type": "code",
   "execution_count": null,
   "id": "1d3188b0-a4d8-49ef-bdac-fb824eb7df85",
   "metadata": {
    "tags": []
   },
   "outputs": [],
   "source": [
    "ad_all.raw = ad_all\n",
    "ad_all.layers[\"raw\"] = ad_all.X.copy()\n",
    "ad_all.layers[\"sqrt_norm\"] = np.sqrt(\n",
    "    sc.pp.normalize_total(ad_all, inplace=False)[\"X\"]\n",
    ")\n",
    "ad_all.layers[\"log_norm\"] = sc.pp.log1p(sc.pp.normalize_total(ad_all, inplace=False)[\"X\"])"
   ]
  },
  {
   "cell_type": "code",
   "execution_count": null,
   "id": "f2280e40-af35-4be1-b1c1-e9583733cd5d",
   "metadata": {
    "tags": []
   },
   "outputs": [],
   "source": [
    "sc.experimental.pp.recipe_pearson_residuals(ad_all, n_top_genes=2000, batch_key='sample')"
   ]
  },
  {
   "cell_type": "code",
   "execution_count": null,
   "id": "dafb767d-2691-4b6c-a972-98bbfa020237",
   "metadata": {
    "tags": []
   },
   "outputs": [],
   "source": [
    "color_dict = {'Normal_AGA' : np.array(pygame.Color('#74b3ce'))/255,\n",
    "'Obese_AGA' : np.array(pygame.Color('#f7b801'))/255, \n",
    "'Obese_LGA' : np.array(pygame.Color('#f7717d'))/255}\n",
    "\n",
    "mother_color_dict = {'Normal_Weight' : np.array(pygame.Color('#74b3ce'))/255,\n",
    "'Obesity' : np.array(pygame.Color('#f7717d'))/255}\n",
    "\n",
    "sex_color_dict = {'Female' : np.array(pygame.Color('#bd6b73'))/255,\n",
    "'Male' : np.array(pygame.Color('#c6c8ee'))/255}\n",
    "\n",
    "color_dict = {'Normal_AGA' : np.array(pygame.Color('#74b3ce'))/255,\n",
    "'Obese_AGA' : np.array(pygame.Color('#f7b801'))/255, \n",
    "'Obese_LGA' : np.array(pygame.Color('#f7717d'))/255}\n",
    "\n",
    "mother_color_dict = {'Normal_Weight' : np.array(pygame.Color('#74b3ce'))/255,\n",
    "'Obesity' : np.array(pygame.Color('#f7717d'))/255}\n",
    "trohoblast_cmap = cm.get_cmap('GnBu', 7)\n",
    "stroma_cmap = cm.get_cmap('PuRd', 7)\n",
    "immune_cmap = cm.get_cmap('YlOrBr', 8)\n",
    "type_color_dict = {'VEC' : stroma_cmap(3), \n",
    "                   'Fibroblast': stroma_cmap(5), 'Myofibroblast': stroma_cmap(6),\n",
    "                  'EVT': trohoblast_cmap(2), 'STB': trohoblast_cmap(3),\n",
    "                  'eSTB': trohoblast_cmap(4), 'CTB': trohoblast_cmap(5),\n",
    "                  'pCTB': trohoblast_cmap(6), 'Hofbauer cells': immune_cmap(2),\n",
    "                  'Monocyte': immune_cmap(3), 'B cells': immune_cmap(4),\n",
    "                  'NK cells': immune_cmap(5), 'T cells': immune_cmap(6)}\n",
    "# #698f3f"
   ]
  },
  {
   "cell_type": "code",
   "execution_count": null,
   "id": "426749cb-fdd5-43b8-8926-05c328f2a919",
   "metadata": {
    "tags": []
   },
   "outputs": [],
   "source": [
    "mother = {'Normal_Weight': ['placenta_60', 'placenta_226', 'placenta_248', 'placenta_357', 'placenta_314'], \n",
    "         'Obesity': ['placenta_32', 'placenta_81', 'placenta_306', 'placenta_373', 'placenta_25', 'placenta_40', 'placenta_303', 'placenta_312', 'placenta_330'], }\n",
    "mother_inv = defaultdict()\n",
    "for k, v in mother.items():\n",
    "    for vi in v:\n",
    "        mother_inv[vi] = k"
   ]
  },
  {
   "cell_type": "code",
   "execution_count": null,
   "id": "9872a84d-a24a-4d2b-9f40-3f406cc19915",
   "metadata": {
    "tags": []
   },
   "outputs": [],
   "source": [
    "sex = {'Male': ['placenta_25', 'placenta_40', 'placenta_81', 'placenta_373', 'placenta_248', 'placenta_314', 'placenta_357'], \n",
    "         'Female': ['placenta_303', 'placenta_312', 'placenta_330', 'placenta_32', 'placenta_306', 'placenta_60', 'placenta_226']}\n",
    "sex_inv = defaultdict()\n",
    "for k, v in sex.items():\n",
    "    for vi in v:\n",
    "        sex_inv[vi] = k"
   ]
  },
  {
   "cell_type": "code",
   "execution_count": null,
   "id": "45ac3465-42d1-4165-aaaa-f757fb1fb4a7",
   "metadata": {
    "tags": []
   },
   "outputs": [],
   "source": [
    "batch = {'Sept': ['placenta_306', 'placenta_314'], \n",
    "         'Oct_Nov': ['placenta_60', 'placenta_226', 'placenta_303', 'placenta_312', 'placenta_32'], \n",
    "         'Nov': ['placenta_248', 'placenta_81', 'placenta_25'],\n",
    "         'Dec': ['placenta_40', 'placenta_330'],\n",
    "        'June': ['placenta_357', 'placenta_373']}\n",
    "batch_inv = defaultdict()\n",
    "for k, v in batch.items():\n",
    "    for vi in v:\n",
    "        batch_inv[vi] = k"
   ]
  },
  {
   "cell_type": "code",
   "execution_count": null,
   "id": "d68b2bbd-3425-462d-aa4c-b45986b5a63d",
   "metadata": {
    "tags": []
   },
   "outputs": [],
   "source": [
    "ad_all.obs['group'] = ad_all.obs['sample'].map(group_inv)\n",
    "ad_all.obs['batch'] = ad_all.obs['sample'].map(batch_inv)\n",
    "ad_all.obs['sex'] = ad_all.obs['sample'].map(sex_inv)\n",
    "ad_all.obs['mother'] = ad_all.obs['sample'].map(mother_inv)\n"
   ]
  },
  {
   "cell_type": "code",
   "execution_count": null,
   "id": "fabc3065",
   "metadata": {},
   "outputs": [],
   "source": [
    "hbg = ['HBA1', 'HBA2', 'HBB', 'HBD', 'HBE1', 'HBG1', 'HBG2', 'HBM', 'HBQ1']\n",
    "sc.tl.score_genes(ad_all, hbg, score_name='Hemoglobins')\n",
    "cell_cycle_gene = [x.strip() for x in open('/mnt/storage/hong/2021/public_matrices/regev_lab_cell_cycle_genes.txt')]\n",
    "## how to select the layer to do cell cycle analysis?\n",
    "su.cell_cycle_analysis(cell_cycle_gene,ad_all,'cell_cycle')\n"
   ]
  },
  {
   "cell_type": "code",
   "execution_count": null,
   "id": "d84a2997",
   "metadata": {},
   "outputs": [],
   "source": [
    "print(sum(ad_all.obs['Hemoglobins']>1))\n",
    "pd.crosstab(ad_all.obs['Hemoglobins']>1, ad_all.obs['leiden'])"
   ]
  },
  {
   "cell_type": "code",
   "execution_count": null,
   "id": "0396cc5a",
   "metadata": {},
   "outputs": [],
   "source": [
    "tab = pd.crosstab(ad_all.obs['group'], ad_all.obs['leiden'], normalize='columns')\n",
    "tab.to_csv('data/leiden_group_comp.csv')"
   ]
  },
  {
   "cell_type": "code",
   "execution_count": null,
   "id": "0a17d446-d31b-4277-9f64-2ad4910172c6",
   "metadata": {
    "tags": []
   },
   "outputs": [],
   "source": [
    "sc.pp.neighbors(ad_all, n_pcs=30)\n",
    "sc.tl.leiden(ad_all, resolution=1)\n",
    "sc.tl.umap(ad_all, min_dist=0.2, spread=1)\n",
    "## show plot inline\n",
    "# import warnings\n",
    "# warnings.filterwarnings('ignore')\n",
    "# %config InlineBackend.figure_formats = ['png']\n",
    "# sc.pl.umap(ad_all, color='leiden', legend_loc='on data', size=10)\n",
    "# sc.pl.umap(ad_all, color='Hemoglobins', size=10)\n",
    "# sc.pl.umap(ad_all, color='phase', size=10)\n"
   ]
  },
  {
   "cell_type": "markdown",
   "id": "be7b529e",
   "metadata": {},
   "source": [
    "## raw cluster correlation across samples"
   ]
  },
  {
   "cell_type": "code",
   "execution_count": null,
   "id": "1fc64682-631b-44b0-99d5-491c2a053332",
   "metadata": {
    "collapsed": true,
    "jupyter": {
     "outputs_hidden": true
    },
    "tags": []
   },
   "outputs": [],
   "source": [
    "cluster_number_df = pd.crosstab(ad_all[ad_all.obs.Hemoglobins < 0].obs['sample'], ad_all[ad_all.obs.Hemoglobins < 0].obs.leiden, normalize='columns')*100\n",
    "total_cells = pd.crosstab(ad_all.obs['sample'], ad_all.obs.leiden).sum(axis=0)\n",
    "# import matplotlib as mpl\n",
    "# import matplotlib.cm as cm\n",
    "   \n",
    "norm = mpl.colors.Normalize(vmin=total_cells.min(), vmax=total_cells.max())\n",
    "cmap = cm.Blues\n",
    "\n",
    "\n",
    "m = cm.ScalarMappable(norm=norm, cmap=cmap)\n",
    "row_colors = total_cells.apply(lambda x: m.to_rgba(x))\n",
    "# from matplotlib.patches import Patch\n",
    "plt.figure(figsize=(1, 5))\n",
    "cbar = plt.colorbar(m)\n",
    "cbar.set_label('number of cells')\n",
    "plt.savefig('figures/QC/ncells_cbar_leiden.pdf', bbox_inches = 'tight')\n",
    "sns.clustermap(cluster_number_df, annot=True, col_colors=row_colors, cbar_pos = (1, 0.5, 0.03, 0.2))\n",
    "plt.savefig('figures/QC/raw_clusters_byleiden.pdf', bbox_inches = 'tight')"
   ]
  },
  {
   "cell_type": "code",
   "execution_count": null,
   "id": "68efaa00",
   "metadata": {},
   "outputs": [],
   "source": [
    "ad_clean = ad_all[ad_all.obs['leiden']!='26']\n"
   ]
  },
  {
   "cell_type": "code",
   "execution_count": null,
   "id": "45e99dc8",
   "metadata": {},
   "outputs": [],
   "source": [
    "\n",
    "marker_dict_coarse = {\n",
    "    'Cell cycle': ['ATAD2', 'BRIP1', 'MKI67'],\n",
    "    'CTB': ['TP63', 'LRP5', 'CDH1'],\n",
    "    'Syncytin': ['ERVW-1', 'ERVFRD-1'],\n",
    "    'STB': ['CYP19A1', 'CSH1', 'PSG3'],\n",
    "    'EVT': ['FSTL3', 'KRT7', 'PRG2'],\n",
    "    'VEC': ['CD34', 'VWF', 'CDH5'],\n",
    "    \"Artery\": ['EFNB2', 'GJA5'],\n",
    "    #\"Vein\": ['ACKR1','IL1R1', \"SELP\", \"VCAM1\"],\n",
    "    # \"Vein\": ['IL1R1'],\n",
    "    # \"Cappilary\": ['EMCN'],\n",
    "    'Fibroblast': ['COL3A1', 'COL1A1', 'DCN'],\n",
    "    'Actin-Myosin': ['ACTA2', 'TAGLN', 'MYH11'],\n",
    "    'Leukocytes': ['PTPRC'],\n",
    "    'Hofbauer cells': ['LYVE1', 'F13A1', 'CD163'],\n",
    "    'Monocyte': ['ITGAX', 'TYMP', 'SLC11A1'],\n",
    "    'B cells': ['IGHD', 'MS4A1', 'IGHM'],\n",
    "    'NK cells': ['GNLY', 'KLRK1', 'KLRD1'],\n",
    "    'T cells': ['CCR7', 'SELL']\n",
    "}\n"
   ]
  },
  {
   "cell_type": "code",
   "execution_count": null,
   "id": "b348f689",
   "metadata": {},
   "outputs": [],
   "source": [
    "mapping = {\n",
    "    'Endo-1': 'VEC',\n",
    "    'Endo-2': 'VEC',\n",
    "}"
   ]
  },
  {
   "cell_type": "code",
   "execution_count": null,
   "id": "e9261fc3",
   "metadata": {},
   "outputs": [],
   "source": [
    "ad_all.obs['subset'].replace(mapping, inplace=True)"
   ]
  },
  {
   "cell_type": "code",
   "execution_count": null,
   "id": "e358e00e",
   "metadata": {},
   "outputs": [],
   "source": [
    "# tropho_intermediate_list = 0:11, 14-16, 20, 22, 24\n",
    "tropho_intermediate_list = [0,1,2,3,4,5,6,7,9,10,11,14,15,16,20,22,24]\n",
    "# string all elements in tropho_intermediate_list\n",
    "tropho_intermediate_list = [str(x) for x in tropho_intermediate_list]"
   ]
  },
  {
   "cell_type": "code",
   "execution_count": null,
   "id": "6b359fbb",
   "metadata": {},
   "outputs": [],
   "source": [
    "celltype = {'Trophoblast cell': tropho_intermediate_list,\n",
    "            'pMSC': ['8', '17'],\n",
    "            'Endothelial cell': ['13', '19', '21'],\n",
    "            'Leukocyte': ['12', '18', '23', '25']}\n",
    "annotate_inv = defaultdict()\n",
    "for k, v in celltype.items():\n",
    "    for vi in v:\n",
    "        annotate_inv[vi] = k\n",
    "ad_clean.obs['cell type'] = ad_clean.obs['leiden'].map(annotate_inv)\n"
   ]
  },
  {
   "cell_type": "code",
   "execution_count": null,
   "id": "5d80b724",
   "metadata": {},
   "outputs": [],
   "source": [
    "# sqrt(CPMedian) normalization\n",
    "ad_clean.layers['sqrtCPMedian'] = ad_clean.layers['raw'].copy()\n",
    "sc.pp.normalize_total(ad_clean, layer='sqrtCPMedian')\n",
    "# sqrt transformation\n",
    "ad_clean.layers['sqrtCPMedian'] = np.sqrt(ad_clean.layers['sqrtCPMedian'])\n",
    "ad_clean.uns['group_colors'] = np.array(['#74b3ce', '#f7b801', '#f7717d'])\n"
   ]
  },
  {
   "cell_type": "code",
   "execution_count": null,
   "id": "a219d17f",
   "metadata": {},
   "outputs": [],
   "source": [
    "## write out ad_clean\n",
    "su.write_adata(ad_all, 'output/10x_h5/h5ad/ad_v0.9_VEC')"
   ]
  },
  {
   "cell_type": "code",
   "execution_count": null,
   "id": "7606a46d",
   "metadata": {},
   "outputs": [],
   "source": [
    "T_NK = ad_clean[ad_clean.obs['leiden']=='18']\n",
    "sc.pp.neighbors(T_NK, n_pcs=15)\n",
    "sc.tl.leiden(T_NK, resolution=0.1)\n",
    "sc.tl.umap(T_NK, min_dist=0.2, spread=1)\n",
    "\n",
    "sc.pl.umap(T_NK, color='leiden', legend_loc='on data', size=20)\n"
   ]
  },
  {
   "cell_type": "code",
   "execution_count": null,
   "id": "987283c1",
   "metadata": {},
   "outputs": [],
   "source": [
    "subset = {'T cells': '2',\n",
    "            'NK cells': ['0', '1']}\n",
    "annotate_inv = defaultdict()\n",
    "for k, v in subset.items():\n",
    "    for vi in v:\n",
    "        annotate_inv[vi] = k\n",
    "T_NK.obs['subset'] = T_NK.obs['leiden'].map(annotate_inv)\n"
   ]
  },
  {
   "cell_type": "code",
   "execution_count": null,
   "id": "31aaf421",
   "metadata": {},
   "outputs": [],
   "source": [
    "## for grant\n",
    "# ad_grant = ad_clean[ad_clean.obs.group !='Obese_LGA']\n",
    "# view = ad_all[np.random.choice(ad_all.n_obs, ad_all.n_obs, replace=False)]\n",
    "ad_all.obs['subset'] = pd.Categorical(ad_all.obs['subset'], categories=['pCTB', 'CTB', 'eSTB', 'STB', 'EVT',\n",
    "                                        'VEC', 'Fibroblast', 'Myofibroblast', 'Hofbauer cells', 'Monocyte', 'B cells', 'NK cells', 'T cells'])\n",
    "new = sc.pp.subsample(ad_all, fraction=1., copy=True)\n",
    "with rc_context({'figure.figsize': (5, 5)}):\n",
    "    sc.pl.umap(new, color='subset', add_outline=True, size=20,\n",
    "               legend_fontsize=12, legend_fontoutline=2, frameon=False,\n",
    "               title='cell types', palette=type_color_dict, save='group_umap_VEC.pdf')\n",
    "    \n",
    "# with rc_context({'figure.figsize': (5, 5)}):\n",
    "#     sc.pl.umap(new, color='group',\n",
    "#                legend_fontsize=12, legend_fontoutline=2, frameon=False,\n",
    "#                title='groups', palette=color_dict, save='group_umap_normaldots.pdf')\n"
   ]
  },
  {
   "cell_type": "code",
   "execution_count": null,
   "id": "2562d9e9",
   "metadata": {},
   "outputs": [],
   "source": [
    "from pandas.api.types import CategoricalDtype\n",
    "ad_all.obs.subset = ad_all.obs.subset.astype(CategoricalDtype(categories=['pCTB', 'CTB', 'eSTB', 'STB', 'EVT', 'Endo-1', 'Endo-2', 'Fibroblast', 'Myofibroblast', 'Hofbauer cells', 'Monocyte', 'B cells', 'NK cells', 'T cells'],ordered=True))"
   ]
  },
  {
   "cell_type": "code",
   "execution_count": null,
   "id": "009faa5e",
   "metadata": {},
   "outputs": [],
   "source": [
    "# %config InlineBackend.figure_formats = ['png']\n",
    "# import warnings\n",
    "# # warnings.filterwarnings('ignore')\n",
    "cmap = matplotlib.colors.LinearSegmentedColormap.from_list(\"\", [\"#004369\", \"white\", \"#DB1F48\"])\n",
    "sc.pl.dotplot(ad_all, marker_dict_coarse, 'subset', standard_scale='var', layer='log_norm', save='figures/markers_fig1f_artery.pdf')"
   ]
  },
  {
   "cell_type": "code",
   "execution_count": null,
   "id": "d4bdc7cf-a2fc-4f39-aea4-626190979d84",
   "metadata": {
    "tags": []
   },
   "outputs": [],
   "source": [
    "subset = {'STB': ['0', '1', '2', '3', '4', '5', '6', '9', '10', '11', '15', '20'],\n",
    "          'eSTB': ['22'],\n",
    "          'CTB': ['7', '14'],\n",
    "          'pCTB': ['16'],\n",
    "          'Fibroblast': ['8'],\n",
    "          'Myofibroblast': ['17'],\n",
    "          'Endo-1': ['13'],\n",
    "          'Endo-2': ['21'],\n",
    "          'Endo-3': ['19'],\n",
    "          'Hofbauer cells': ['12'],\n",
    "          'T/NK': ['18'],\n",
    "          'Monocyte': ['23'],\n",
    "          'B cells': ['25'],\n",
    "          'EVT': ['24']}\n",
    "annotate_inv = defaultdict()\n",
    "for k, v in subset.items():\n",
    "    for vi in v:\n",
    "        annotate_inv[vi] = k\n",
    "ad_all.obs['subset'] = ad_all.obs['leiden'].map(annotate_inv)\n"
   ]
  },
  {
   "cell_type": "code",
   "execution_count": null,
   "id": "2dd8416f",
   "metadata": {},
   "outputs": [],
   "source": [
    "ad_all.write_h5ad('output/10x_h5/h5ad/ad_v0.9_3ENdo.h5ad')"
   ]
  },
  {
   "cell_type": "code",
   "execution_count": null,
   "id": "63ee3ce3",
   "metadata": {},
   "outputs": [],
   "source": [
    "## replace subset column in ad_clean.obs the column in with T_NK.obs if index exist, otherwise, keep the original value\n",
    "ad_clean.obs['subset'] = ad_clean.obs['subset'].where(~ad_clean.obs.index.isin(T_NK.obs.index), T_NK.obs['subset'])\n"
   ]
  },
  {
   "cell_type": "code",
   "execution_count": null,
   "id": "89ff1322-3128-4cf0-bb55-fed6aff03f0b",
   "metadata": {
    "tags": []
   },
   "outputs": [],
   "source": [
    "# ad_all.obs['subset'] = pd.Categorical(ad_all.obs['subset'], categories=['pCTB', 'CTB', 'eSTB', 'STB', 'EVT',\n",
    "#                                         'Endo-1', 'Endo-2', 'Endo-3', 'Fibroblast', 'Myofibroblast', 'Hofbauer cells', 'Monocyte', 'B cells', 'NK cells', 'T cells'])\n",
    "sc.pl.dotplot(ad_all, marker_dict_coarse, 'subset', standard_scale='var', layer='log_norm', save='figures/markers_fig1f_vectypes_final.pdf')\n"
   ]
  },
  {
   "cell_type": "code",
   "execution_count": null,
   "id": "91144610",
   "metadata": {},
   "outputs": [],
   "source": [
    "# reorder the subset column to ['pCTB', 'CTB', 'eSTB', 'STB', 'EVT', 'Endo-1', 'Endo-2', 'Endo-3', 'Fibroblast',\n",
    "# 'Myofibroblast', 'Hofbauer cells', 'Monocyte', 'B cells', 'NK cells', 'T cells']\n",
    "# ad_clean.obs['subset'] = pd.Categorical(ad_clean.obs['subset'], categories=['pCTB', 'CTB', 'eSTB', 'STB', 'EVT', 'Endo-1', 'Endo-2', 'Fibroblast', 'Myofibroblast', 'Hofbauer cells', 'Monocyte', 'B cells', 'NK cells', 'T cells'])\n",
    "## use palette type_color_dict to color the subset\n",
    "# sc.pl.umap(ad_clean, color='subset', size=20, palette=type_color_dict)\n",
    "# sc.pl.umap(ad_clean, color='subset', legend_loc='on data', size=20)\n",
    "with rc_context({'figure.figsize': (5, 5)}):\n",
    "    sc.pl.umap(ad_clean, color='subset', add_outline=True, size=20,\n",
    "               legend_fontsize=12, legend_fontoutline=2, frameon=False,\n",
    "               title='cell types', palette=type_color_dict, save='celltypes_umap.pdf')\n"
   ]
  },
  {
   "cell_type": "code",
   "execution_count": null,
   "id": "63ca131e-1615-4e08-9c89-52eea1c5fc91",
   "metadata": {
    "tags": []
   },
   "outputs": [],
   "source": [
    "# ad_clean.X = ad_clean.layers['raw']\n",
    "# sc.experimental.pp.recipe_pearson_residuals(ad_clean, n_top_genes=2000, batch_key='sample')\n",
    "ad_clean.obs['Subset'].cat.reorder_categories(['pCTB', 'CTB', 'eSTB', 'STB', 'EVT', 'Endo-1', 'Endo-2', 'Fibroblast', 'Myofibroblast', 'Hofbauer cells', 'Monocyte', '(Memory) B cells', 'NK cells', 'Naive T cells'], inplace=True)"
   ]
  },
  {
   "cell_type": "markdown",
   "id": "e0c41b4f-2750-4786-a0c1-b7d2d7acc9e3",
   "metadata": {},
   "source": [
    "## Automatic annotation"
   ]
  },
  {
   "cell_type": "markdown",
   "id": "338ec12a-d474-49ed-9492-c0a591a00a48",
   "metadata": {},
   "source": [
    "## self annotation"
   ]
  },
  {
   "cell_type": "code",
   "execution_count": null,
   "id": "e1f341b9-b617-4517-af8c-3b404a37abb8",
   "metadata": {
    "collapsed": true,
    "jupyter": {
     "outputs_hidden": true
    },
    "tags": []
   },
   "outputs": [],
   "source": [
    "sc.tl.rank_genes_groups(placenta, 'leiden', method='t-test_overestim_var', key_added='t-test_overestim_var')"
   ]
  },
  {
   "cell_type": "code",
   "execution_count": null,
   "id": "7ef28587-d0b4-4384-9a98-674ee6190edd",
   "metadata": {
    "collapsed": true,
    "jupyter": {
     "outputs_hidden": true
    },
    "tags": []
   },
   "outputs": [],
   "source": [
    "su.find_markers(ad_clean, ['logreg', 't-test', 'wilcoxon', 't-test_overestim_var'], cluster='leiden')"
   ]
  },
  {
   "cell_type": "code",
   "execution_count": null,
   "id": "d4aa6bca-ddcc-4f28-9178-c9533cc4a3c7",
   "metadata": {},
   "outputs": [],
   "source": [
    "NK_wilcox_df = pd.DataFrame.from_dict({k: ad_clean.uns['wilcoxon'][k]['NK'] for k in ('names', 'scores', 'pvals', 'pvals_adj', 'logfoldchanges')})"
   ]
  },
  {
   "cell_type": "code",
   "execution_count": null,
   "id": "37611d5a-0fcd-47bc-8dd2-2912b514d1b8",
   "metadata": {},
   "outputs": [],
   "source": [
    "import csv\n",
    "NK_wilcox_df_sig = NK_wilcox_df.query(\"pvals_adj <0.05 & logfoldchanges > 1\")\n",
    "NK_wilcox_df_sig.to_csv('output/markers/NK_wilcox_sig.tsv', sep='\\t', index=False, quoting=csv.QUOTE_NONNUMERIC)"
   ]
  },
  {
   "cell_type": "code",
   "execution_count": null,
   "id": "3482c315-9cbd-415e-b2f3-ce770eb7578d",
   "metadata": {},
   "outputs": [],
   "source": [
    "pd.DataFrame(ad_clean.uns['wilcoxon']['names', 'scores', 'pvals', 'pvals_adj', 'logfoldchanges'])"
   ]
  },
  {
   "cell_type": "code",
   "execution_count": null,
   "id": "5e8ac939-0d63-43ac-b79d-51736664b19d",
   "metadata": {},
   "outputs": [],
   "source": [
    "import venn"
   ]
  },
  {
   "cell_type": "code",
   "execution_count": null,
   "id": "9046154a-c3a5-4880-a243-cb39e93e1bdf",
   "metadata": {
    "collapsed": true,
    "jupyter": {
     "outputs_hidden": true
    },
    "tags": []
   },
   "outputs": [],
   "source": [
    "#compare cluster1 genes, only stores top 100 by default\n",
    "\n",
    "wc = pd.DataFrame(ad_clean.uns['t-test']['names']).head(25)\n",
    "tt = pd.DataFrame(ad_clean.uns['wilcoxon']['names']).head(25)\n",
    "tt_ov = pd.DataFrame(ad_clean.uns['t-test_overestim_var']['names']).head(25)\n",
    "logreg = pd.DataFrame(ad_clean.uns['logreg']['names']).head(25)\n",
    "i = 0\n",
    "for name in wc.columns:\n",
    "    plt.figure(i)\n",
    "    labels = venn.get_labels([set(wc.loc[:,name]),set(tt.loc[:,name]),set(tt_ov.loc[:,name]),set(logreg.loc[:,name])], fill=['number'])\n",
    "    venn.venn4(labels, names=['Wilcox','T-test','T-test_ov', 'Logreg'] )\n",
    "    plt.savefig(f'figures/venn_{name}.pdf')\n",
    "    i += 1"
   ]
  },
  {
   "cell_type": "code",
   "execution_count": null,
   "id": "c12a912e-27c6-43d3-bbbd-92633441ad60",
   "metadata": {
    "collapsed": true,
    "jupyter": {
     "outputs_hidden": true
    },
    "tags": []
   },
   "outputs": [],
   "source": [
    "#sc.settings.set_figure_params(dpi=300)\n",
    "#visualize the gene expression as an overlay of the umap\n",
    "#(this way you can visually identify the clusters with a high expression))\n",
    "for k, v in marker_dict.items():\n",
    "    sc.pl.umap(ad_all, layer = 'sqrt_norm', color = v, color_map = 'viridis', ncols = 3)"
   ]
  },
  {
   "cell_type": "code",
   "execution_count": null,
   "id": "dda019cc-4495-4639-8b84-a258219918b3",
   "metadata": {},
   "outputs": [],
   "source": [
    "# Fill in the clusters that belong to each cell type based on each marker in the plot above\n",
    "cell_dict = {'Trophoblast cells': ['0','1'], 'Smooth muscle cells': ['2'], \n",
    "             'Endothelial cells': ['3'],\n",
    "             'Hofbauer cells': ['4'],\n",
    "             'T cells': ['5']}\n",
    "\n",
    "# Initialize empty column in cell metadata\n",
    "ad_all.obs['annotation'] = np.nan\n",
    "\n",
    "# Generate new assignments\n",
    "for i in cell_dict.keys():\n",
    "    ind = pd.Series(ad_all.obs.leiden).isin(cell_dict[i])\n",
    "    ad_all.obs.loc[ind,'annotation'] = i\n",
    "\n",
    "sc.pl.umap(ad_all, color=['annotation'], legend_loc='on data', legend_fontsize=6, save='cell_type_all')"
   ]
  },
  {
   "cell_type": "code",
   "execution_count": null,
   "id": "3ad315b3-1152-4e6f-9cb8-ca6391cc74b5",
   "metadata": {},
   "outputs": [],
   "source": [
    "ad_all.obs['predicted_doublet'] = ad_all.obs['predicted_doublet'].map({True: 'True', False: 'False'})\n",
    "ad_all.write(filename='output/10x_h5/ad_all.h5ad', compression='gzip')"
   ]
  },
  {
   "attachments": {},
   "cell_type": "markdown",
   "id": "430220fc-f149-47b8-8aeb-1d167e2deabb",
   "metadata": {},
   "source": [
    "## composition test\n",
    "input factors in obs matter"
   ]
  },
  {
   "cell_type": "code",
   "execution_count": null,
   "id": "4788ff64",
   "metadata": {},
   "outputs": [],
   "source": [
    "# # read in samples/sample_2seq.tsv\n",
    "sample_info = pd.read_csv(\"samples/samples_2seq.csv\", sep=';', decimal=',')\n",
    "sample_info['sample'] = ['placenta_' + str(sample_id) for sample_id in sample_info['ID']]\n",
    "sample_info['mother'] = [group.split('_')[0] for group in sample_info.Group]\n",
    "sample_info['baby'] = [group.split('_')[1] for group in sample_info.Group]\n",
    "# add Baby Weight from sample_info to ad_clean.obs by key 'sample'\n",
    "ad_all.obs = ad_all.obs.merge(sample_info, on='sample', how='outer')"
   ]
  },
  {
   "cell_type": "code",
   "execution_count": null,
   "id": "9cc43e77",
   "metadata": {},
   "outputs": [],
   "source": [
    "ad_clean.obs['log_ngenes'] = np.log(ad_clean.obs.n_genes)"
   ]
  },
  {
   "cell_type": "code",
   "execution_count": null,
   "id": "f3374adc",
   "metadata": {},
   "outputs": [],
   "source": [
    "## change the colname \"Baby Weight_x\" to \"Birth_weight\"\n",
    "ad_all.obs[\"group_sex\"] = ad_all.obs['group'].astype(\n",
    "    str) + \"_\" + ad_all.obs[\"sex_x\"].astype(str)\n"
   ]
  },
  {
   "cell_type": "code",
   "execution_count": null,
   "id": "1a5a22ae-7d14-4efc-9c72-26fccb55211a",
   "metadata": {
    "collapsed": true,
    "jupyter": {
     "outputs_hidden": true
    },
    "tags": []
   },
   "outputs": [],
   "source": [
    "import sccoda\n",
    "import pertpy as pt\n",
    "sccoda_model = pt.tl.Sccoda()\n",
    "sccoda_data = sccoda_model.load(\n",
    "    ad_all,\n",
    "    type=\"cell_level\",\n",
    "    generate_sample_level=True,\n",
    "    cell_type_identifier=\"subset\",\n",
    "    sample_identifier=\"sample\",\n",
    "    covariate_obs=[\"group_sex\"],\n",
    ")"
   ]
  },
  {
   "cell_type": "code",
   "execution_count": null,
   "id": "2b08d3db",
   "metadata": {},
   "outputs": [],
   "source": [
    "import sccoda\n",
    "import pertpy as pt\n",
    "sccoda_model = pt.tl.Sccoda()\n",
    "sccoda_ob = sccoda_model.load(\n",
    "    ad_all,\n",
    "    type=\"cell_level\",\n",
    "    generate_sample_level=True,\n",
    "    cell_type_identifier=\"subset\",\n",
    "    sample_identifier=\"sample\",\n",
    "    covariate_obs=[\"group\", \"sex\"],\n",
    ")"
   ]
  },
  {
   "cell_type": "code",
   "execution_count": null,
   "id": "827ae0f7",
   "metadata": {},
   "outputs": [],
   "source": [
    "viz.stacked_barplot(abund,\n",
    "                    figsize=(6, 5), \n",
    "                    feature_name=\"group_sex\")\n",
    "plt.savefig('figures/abundance.pdf', dpi=900)"
   ]
  },
  {
   "cell_type": "code",
   "execution_count": null,
   "id": "6f1ab9f6-1bf4-4881-a78a-e0dd88ac39f0",
   "metadata": {},
   "outputs": [],
   "source": [
    "pt.pl.coda.boxplots(\n",
    "    sccoda_data,\n",
    "    modality_key=\"coda\",\n",
    "    feature_name=\"group\",\n",
    "    figsize=(12, 5),\n",
    "    add_dots=True,\n",
    "    args_swarmplot={\"palette\": [\"red\"]},\n",
    ")"
   ]
  },
  {
   "cell_type": "code",
   "execution_count": null,
   "id": "5407cce5",
   "metadata": {},
   "outputs": [],
   "source": [
    "abund = sccoda_ob.mod[\"coda\"]\n"
   ]
  },
  {
   "cell_type": "code",
   "execution_count": null,
   "id": "d15862cc",
   "metadata": {},
   "outputs": [],
   "source": [
    "## find a reference cell type\n",
    "from sccoda.util import data_visualization as viz\n",
    "viz.rel_abundance_dispersion_plot(\n",
    "    data=abund,\n",
    "    abundant_threshold=0.9\n",
    ")\n",
    "plt.show()\n"
   ]
  },
  {
   "cell_type": "code",
   "execution_count": null,
   "id": "11e5ce12",
   "metadata": {},
   "outputs": [],
   "source": [
    "# from sccoda.util import comp_ana as mod\n",
    "# model_all = mod.CompositionalAnalysis(\n",
    "#     abund, formula=\"group+sex\", reference_cell_type=\"Endo-2\")\n",
    "# all_results = model_all.sample_hmc(num_results=20000)\n",
    "all_results.summary_extended(hdi_prob=0.9)\n"
   ]
  },
  {
   "cell_type": "code",
   "execution_count": null,
   "id": "ea1462c8",
   "metadata": {},
   "outputs": [],
   "source": [
    "model_salm_switch_cond = mod.CompositionalAnalysis(abund, formula=\"C(group, Treatment('Normal_AGA'))\", reference_cell_type=\"eSTB\")\n",
    "switch_results = model_salm_switch_cond.sample_hmc()\n",
    "switch_results.summary()"
   ]
  },
  {
   "cell_type": "code",
   "execution_count": null,
   "id": "4b8442f4",
   "metadata": {},
   "outputs": [],
   "source": [
    "print(switch_results.credible_effects())\n"
   ]
  },
  {
   "cell_type": "code",
   "execution_count": null,
   "id": "e84591c8",
   "metadata": {},
   "outputs": [],
   "source": [
    "all_results.set_fdr(est_fdr=0.1)\n",
    "all_results.summary()\n"
   ]
  },
  {
   "cell_type": "code",
   "execution_count": null,
   "id": "181c1644",
   "metadata": {},
   "outputs": [],
   "source": [
    "sccoda_model.prepare(\n",
    "    sccoda_data,\n",
    "    modality_key=\"coda\",\n",
    "    reference_cell_type=\"eSTB\",\n",
    "    formula=\"group + sex_x\"\n",
    ")\n"
   ]
  },
  {
   "cell_type": "code",
   "execution_count": null,
   "id": "e7fcbdc9",
   "metadata": {},
   "outputs": [],
   "source": [
    "sim_results = model_salm.sample_hmc()"
   ]
  }
 ],
 "metadata": {
  "kernelspec": {
   "display_name": "scanpy",
   "language": "python",
   "name": "python3"
  },
  "language_info": {
   "codemirror_mode": {
    "name": "ipython",
    "version": 3
   },
   "file_extension": ".py",
   "mimetype": "text/x-python",
   "name": "python",
   "nbconvert_exporter": "python",
   "pygments_lexer": "ipython3",
   "version": "3.10.8"
  }
 },
 "nbformat": 4,
 "nbformat_minor": 5
}
