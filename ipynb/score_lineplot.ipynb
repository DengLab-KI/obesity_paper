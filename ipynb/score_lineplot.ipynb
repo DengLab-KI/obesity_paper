{
 "cells": [
  {
   "cell_type": "code",
   "execution_count": 1,
   "metadata": {},
   "outputs": [],
   "source": [
    "import seaborn as sns\n",
    "import pandas as pd\n",
    "import os\n",
    "import numpy as np\n",
    "from openpyxl import load_workbook\n",
    "import matplotlib.pyplot as plt\n",
    "import matplotlib"
   ]
  },
  {
   "cell_type": "code",
   "execution_count": null,
   "metadata": {},
   "outputs": [],
   "source": [
    "from matplotlib import rcParams\n",
    "\n",
    "custom_params = {\"axes.spines.right\": False, \"axes.spines.top\": False}\n",
    "rcParams['font.family'] = 'sans-serif'\n",
    "matplotlib.rcParams['font.sans-serif'] = ['Arial']\n",
    "matplotlib.rcParams['pdf.fonttype'] = 42\n",
    "matplotlib.rcParams['ps.fonttype'] = 42\n",
    "sns.set_theme(style=\"ticks\", rc=custom_params)"
   ]
  },
  {
   "cell_type": "code",
   "execution_count": null,
   "metadata": {},
   "outputs": [],
   "source": [
    "os.chdir('/mnt/data/hong/2022/DHJ1_human_obesity_placenta/')"
   ]
  },
  {
   "cell_type": "code",
   "execution_count": 9,
   "metadata": {},
   "outputs": [],
   "source": [
    "def plot_scores(cell_type, highlight):\n",
    "    ## read in the data\n",
    "    df = pd.read_csv(f'output/DEGs/final_negbinom_all/score_tsv/{cell_type}.tsv', sep='\\t')\n",
    "    ## filter out score == 0\n",
    "    df = df[df['score'] != 0]\n",
    "    ## sort the score\n",
    "    df = df.sort_values('score', ascending=True).reset_index(drop=True)\n",
    "    ## color bar by pvalue, continous variable\n",
    "    df['color'] = np.where(df['p'] > 0.05, 'grey', np.where(df['convergence']=='high', '#C93235', '#33498C'))\n",
    "    f, ax = plt.subplots(figsize=(1.2,1.8))\n",
    "    points = ax.scatter(df.index, df['score'], c=df['color'], s=1)\n",
    "    df_highlight = df.loc[df['Unnamed: 0'].isin(highlight)] ## the index not change after loc\n",
    "    for line in range(0,df_highlight.shape[0]):\n",
    "          i = df_highlight.index[line]\n",
    "          ax.annotate(df_highlight.loc[i, \"Unnamed: 0\"], (i, df_highlight.loc[i, \"score\"]), xytext=(5, -0.1),\n",
    "                textcoords='offset points', arrowprops=dict(arrowstyle='->', linewidth=1, color = 'b'), style='italic', fontsize=2)\n",
    "    plt.ylim(-1, 3)\n",
    "    ## save the plot\n",
    "    plt.savefig('figures/DEGs/score/' + cell_type + '_logp_v5.pdf')\n",
    "    plt.close()"
   ]
  },
  {
   "cell_type": "code",
   "execution_count": 10,
   "metadata": {},
   "outputs": [],
   "source": [
    "# plot_scores('STB_a', ['FN1', 'FBLN1'])\n",
    "# plot_scores('CTB', ['ITGB4', 'SLC38A1', 'DST', 'FOXO3', 'RBPJ'])\n",
    "plot_scores('Endo-1', ['FN1', 'CBLB', 'COL4A2', 'NRP1'])"
   ]
  },
  {
   "cell_type": "code",
   "execution_count": 31,
   "metadata": {},
   "outputs": [],
   "source": []
  },
  {
   "cell_type": "code",
   "execution_count": null,
   "metadata": {},
   "outputs": [],
   "source": []
  }
 ],
 "metadata": {
  "kernelspec": {
   "display_name": "scanpy",
   "language": "python",
   "name": "python3"
  },
  "language_info": {
   "codemirror_mode": {
    "name": "ipython",
    "version": 3
   },
   "file_extension": ".py",
   "mimetype": "text/x-python",
   "name": "python",
   "nbconvert_exporter": "python",
   "pygments_lexer": "ipython3",
   "version": "3.10.8"
  }
 },
 "nbformat": 4,
 "nbformat_minor": 2
}
