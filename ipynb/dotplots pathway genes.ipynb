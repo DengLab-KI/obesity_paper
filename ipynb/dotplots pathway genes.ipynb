{
 "cells": [
  {
   "cell_type": "code",
   "execution_count": 1,
   "metadata": {},
   "outputs": [],
   "source": [
    "import os\n",
    "import pandas as pd\n",
    "import scanpy as sc\n",
    "import seaborn as sns\n",
    "import matplotlib"
   ]
  },
  {
   "cell_type": "code",
   "execution_count": 2,
   "metadata": {},
   "outputs": [
    {
     "name": "stderr",
     "output_type": "stream",
     "text": [
      "2024-10-15 16:22:39.895580: I tensorflow/core/platform/cpu_feature_guard.cc:193] This TensorFlow binary is optimized with oneAPI Deep Neural Network Library (oneDNN) to use the following CPU instructions in performance-critical operations:  SSE4.1 SSE4.2 AVX AVX2 FMA\n",
      "To enable them in other operations, rebuild TensorFlow with the appropriate compiler flags.\n"
     ]
    },
    {
     "name": "stdout",
     "output_type": "stream",
     "text": [
      "scanpy==1.9.6 anndata==0.8.0 umap==0.5.5 numpy==1.23.5 scipy==1.11.4 pandas==1.5.3 scikit-learn==1.4.0 statsmodels==0.14.0 igraph==0.10.3 pynndescent==0.5.8\n"
     ]
    }
   ],
   "source": [
    "custom_params = {\"axes.spines.right\": False, \"axes.spines.top\": False}\n",
    "matplotlib.rcParams['font.family'] = 'sans-serif'\n",
    "matplotlib.rcParams['font.sans-serif'] = ['Arial']\n",
    "matplotlib.rcParams['pdf.fonttype'] = 42\n",
    "matplotlib.rcParams['ps.fonttype'] = 42\n",
    "sns.set_theme(style=\"ticks\", rc=custom_params)\n",
    "\n",
    "# matplotlib.rcParams['figure.figsize'] = [5, 5]\n",
    "# verbosity: errors (0), warnings (1), info (2), hints (3)\n",
    "sc.settings.verbosity = 3\n",
    "sc.logging.print_header()\n",
    "sc.set_figure_params(dpi=300)\n",
    "%matplotlib inline"
   ]
  },
  {
   "cell_type": "code",
   "execution_count": 2,
   "metadata": {},
   "outputs": [],
   "source": [
    "wd = '/mnt/data/hong/2022/DHJ1_human_obesity_placenta/'"
   ]
  },
  {
   "cell_type": "code",
   "execution_count": 3,
   "metadata": {},
   "outputs": [],
   "source": [
    "os.chdir(wd)"
   ]
  },
  {
   "cell_type": "code",
   "execution_count": 4,
   "metadata": {},
   "outputs": [],
   "source": [
    "ad_clean = sc.read_h5ad('output/10x_h5/h5ad/ad_v2.h5ad')"
   ]
  },
  {
   "cell_type": "code",
   "execution_count": 86,
   "metadata": {},
   "outputs": [],
   "source": [
    "def function_sets(cell_type,function_set, function_name, mode):\n",
    "    ## read in the data\n",
    "    # ad_zscore = sc.pp.scale(ad_clean[ad_clean.obs.final_celltypes==cell_type], max_value=10, zero_center=True, layer = 'log_norm', copy = True)\n",
    "    ad = ad_clean[ad_clean.obs.final_celltypes==cell_type]\n",
    "    df = pd.read_csv(f'output/DEGs/final_negbinom_all/score_tsv/{cell_type}.tsv', sep='\\t')\n",
    "    ## order df by score\n",
    "    df.sort_values('score' , ascending=False, inplace=True)\n",
    "    common_set = df.query(\"convergence=='high'&p<0.05\")['Unnamed: 0']\n",
    "    divergent_set = df.query(\"convergence=='low'&p<0.05\")['Unnamed: 0']\n",
    "    common_function = [element for element in common_set if element in function_set]\n",
    "    divergent_function = [element for element in divergent_set if element in function_set]\n",
    "    print(len(common_function))\n",
    "    print(len(divergent_function))\n",
    "    if mode == 'common':\n",
    "        function2plot = common_function\n",
    "    if mode == 'divergent':\n",
    "        function2plot = divergent_function\n",
    "    elif mode=='both':\n",
    "        function2plot = common_function+divergent_function\n",
    "    if len(function2plot)>0:\n",
    "        print(function2plot)\n",
    "        function_name = function_name.replace('/', '_')\n",
    "        sc.pl.dotplot(ad, function2plot, groupby='group', dendrogram=False, layer = 'log_norm', show=False, swap_axes=True, cmap='YlOrRd', standard_scale='var', save=f'fig2_{cell_type}_{function_name}_standard.pdf', figsize=(2.5, len(function2plot)/2), use_raw=False, categories_order=['Normal_AGA', 'Obese_AGA', 'Obese_LGA'], dot_max\n",
    "=1, dot_min=0.1)\n",
    "\n",
    "    # sc.pl.stacked_violin(ad_clean[ad_clean.obs.final_celltypes==cell_type], list(function2plot), groupby='group', dendrogram=False, standard_scale='var', show=False, swap_axes=True, cmap='YlOrRd',save=f'fig2_{cell_type}_{function_name}_violin.pdf', figsize=(2.5, len(function2plot)/2), use_raw=False, categories_order=['Normal_AGA', 'Obese_AGA', 'Obese_LGA'])"
   ]
  },
  {
   "cell_type": "markdown",
   "metadata": {},
   "source": [
    "## get gene sets from files\n",
    "The files were downloaded from GO or Hallmark official site. With version registered"
   ]
  },
  {
   "cell_type": "code",
   "execution_count": 76,
   "metadata": {},
   "outputs": [],
   "source": [
    "def get_set_genes(set_df, set_name):\n",
    "    gene_str= set_df.loc[set_df.set_name==set_name, 'genes'].to_list()\n",
    "    gene_list = gene_str[0].split(',')\n",
    "    return gene_list\n"
   ]
  },
  {
   "cell_type": "code",
   "execution_count": 24,
   "metadata": {},
   "outputs": [],
   "source": [
    "genesets = pd.read_csv('data/Placenta_genesets.tsv', sep='\\t')\n",
    "transporters = set(genesets.query(\"geneset!='secretome'\")['genesymbol'])\n",
    "secretome = set(genesets.query(\"geneset=='secretome'\")['genesymbol'])\n",
    "tnfa = set(pd.read_csv('data/TNFa.tsv', sep='\\t')['SYMBOL'])\n",
    "hypoxia = set(pd.read_csv('data/hypoxia.tsv', sep='\\t')['SYMBOL'])\n",
    "apical = set(pd.read_csv('data/HALLMARK_APICAL_JUNCTION.v2024.1.Hs.tsv', sep='\\t').iloc[16, 1].split(','))\n",
    "myc = set(pd.read_csv('data/HALLMARK_MYC_TARGETS_V2.v2024.1.Hs.tsv', sep='\\t').iloc[16, 1].split(','))\n",
    "mitotic = set(pd.read_csv('data/HALLMARK_MITOTIC_SPINDLE.v2024.1.Hs.tsv', sep='\\t').iloc[16, 1].split(','))\n",
    "g2m = set(pd.read_csv('data/HALLMARK_G2M_CHECKPOINT.v2024.1.Hs.tsv', sep='\\t').iloc[16, 1].split(','))\n",
    "adipo = set(pd.read_csv('data/HALLMARK_ADIPOGENESIS.v2024.1.Hs.tsv', sep='\\t').iloc[16, 1].split(','))\n",
    "il2 = set(pd.read_csv('data/HALLMARK_IL2_STAT5_SIGNALING.v2024.1.Hs.tsv', sep='\\t').iloc[16, 1].split(','))\n",
    "heme = set(pd.read_csv('data/HALLMARK_HEME_METABOLISM.v2024.1.Hs.tsv', sep='\\t').iloc[16, 1].split(','))\n",
    "hallmark = pd.read_csv('data/MSigDB_Hallmark_2020.tsv', sep='\\t', names=['set_name', 'genes'])\n",
    "kegg = pd.read_csv('data/KEGG_2021_Human.tsv', sep='\\t', names=['set_name', 'genes'])\n",
    "go = pd.read_csv('data/GO_Biological_Process_2023.tsv', sep='\\t', names=['set_name', 'genes'])"
   ]
  },
  {
   "cell_type": "code",
   "execution_count": null,
   "metadata": {},
   "outputs": [],
   "source": [
    "set_name = \"PI3K-Akt signaling pathway\"\n",
    "function_set = get_set_genes(kegg, set_name)\n",
    "function_sets('CTB',function_set, set_name, 'common')\n",
    "set_name = \"Positive Regulation Of MAPK Cascade (GO:0043410)\"\n",
    "function_set = get_set_genes(go, set_name) + ['MAPK4']\n",
    "function_sets('CTB',function_set, set_name, 'divergent')"
   ]
  },
  {
   "cell_type": "code",
   "execution_count": null,
   "metadata": {},
   "outputs": [],
   "source": [
    "\n",
    "function_sets('CTB', function_set, 'Apical Junction', 'common')\n",
    "function_sets('CTB', function_set,'Mitotic Spindle', 'common')\n",
    "function_sets('CTB', function_set,'G2-M Checkpoint', 'common')\n",
    "function_sets('CTB',function_set, 'Adipogenesis', 'common')\n",
    "function_sets('CTB', function_set,'IL-2/STAT5 Signaling', 'common')\n",
    "function_sets('CTB',function_set, 'heme Metabolism', 'common')\n",
    "function_sets('CTB', function_set,'Hypoxia', 'common')\n",
    "function_sets('CTB',function_set, 'Myc Targets V2', 'divergent')\n",
    "function_sets('STB-b', transporters, 'transporters', mode='both')\n",
    "function_sets('STB-c', transporters, 'transporters', mode='both')\n",
    "function_sets('STB-b', tnfa, 'tnfa', mode='common')\n",
    "function_sets('STB-c', tnfa, 'tnfa', mode='common')\n",
    "function_sets('STB-b', hypoxia, 'hypoxia', mode='common')\n",
    "function_sets('STB-c', hypoxia, 'hypoxia', mode='common')\n",
    "function_sets('STB-b', secretome, 'secretome', mode='both')\n",
    "function_sets('STB-c', secretome, 'secretome', mode='both')"
   ]
  }
 ],
 "metadata": {
  "kernelspec": {
   "display_name": "scanpy",
   "language": "python",
   "name": "python3"
  },
  "language_info": {
   "codemirror_mode": {
    "name": "ipython",
    "version": 3
   },
   "file_extension": ".py",
   "mimetype": "text/x-python",
   "name": "python",
   "nbconvert_exporter": "python",
   "pygments_lexer": "ipython3",
   "version": "3.10.8"
  }
 },
 "nbformat": 4,
 "nbformat_minor": 2
}
