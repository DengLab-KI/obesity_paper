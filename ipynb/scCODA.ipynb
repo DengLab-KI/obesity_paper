{
 "cells": [
  {
   "cell_type": "code",
   "execution_count": 1,
   "metadata": {},
   "outputs": [
    {
     "name": "stderr",
     "output_type": "stream",
     "text": [
      "2024-08-04 17:31:52.277575: I tensorflow/core/platform/cpu_feature_guard.cc:193] This TensorFlow binary is optimized with oneAPI Deep Neural Network Library (oneDNN) to use the following CPU instructions in performance-critical operations:  SSE4.1 SSE4.2 AVX AVX2 FMA\n",
      "To enable them in other operations, rebuild TensorFlow with the appropriate compiler flags.\n"
     ]
    },
    {
     "name": "stdout",
     "output_type": "stream",
     "text": [
      "scanpy==1.9.6 anndata==0.8.0 umap==0.5.5 numpy==1.23.5 scipy==1.11.4 pandas==1.5.3 scikit-learn==1.4.0 statsmodels==0.14.0 igraph==0.10.3 pynndescent==0.5.8\n"
     ]
    }
   ],
   "source": [
    "import scanpy as sc\n",
    "import pandas as pd\n",
    "import matplotlib.pyplot as plt\n",
    "import numpy as np\n",
    "import os\n",
    "os.chdir(\"/mnt/data/hong/2022/human_placenta\")\n",
    "import matplotlib\n",
    "custom_params = {\"axes.spines.right\": False, \"axes.spines.top\": False}\n",
    "matplotlib.rcParams['font.family'] = 'sans-serif'\n",
    "matplotlib.rcParams['font.sans-serif'] = ['Arial']\n",
    "matplotlib.rcParams['pdf.fonttype'] = 42\n",
    "matplotlib.rcParams['ps.fonttype'] = 42\n",
    "\n",
    "# matplotlib.rcParams['figure.figsize'] = [5, 5]\n",
    "# verbosity: errors (0), warnings (1), info (2), hints (3)\n",
    "sc.settings.verbosity = 3\n",
    "sc.logging.print_header()\n",
    "sc.set_figure_params(dpi=300)\n",
    "%matplotlib inline\n",
    "\n",
    "adata = sc.read_h5ad('output/10x_h5/h5ad/ad_v2.h5ad')"
   ]
  },
  {
   "cell_type": "code",
   "execution_count": 9,
   "metadata": {},
   "outputs": [],
   "source": [
    "adata = adata[adata.obs['sample']!='placenta_314']"
   ]
  },
  {
   "cell_type": "code",
   "execution_count": 10,
   "metadata": {},
   "outputs": [
    {
     "data": {
      "text/html": [
       "<pre>MuData object with n_obs × n_vars = 37199 × 26929\n",
       "  2 modalities\n",
       "    rna:\t37188 x 26913\n",
       "      obs:\t&#x27;latent_RT_efficiency&#x27;, &#x27;latent_cell_probability&#x27;, &#x27;latent_scale&#x27;, &#x27;doublet_score&#x27;, &#x27;predicted_doublet&#x27;, &#x27;n_genes_by_counts&#x27;, &#x27;total_counts&#x27;, &#x27;total_counts_mt&#x27;, &#x27;pct_counts_mt&#x27;, &#x27;n_counts&#x27;, &#x27;n_genes&#x27;, &#x27;sample&#x27;, &#x27;group&#x27;, &#x27;batch&#x27;, &#x27;sex&#x27;, &#x27;mother&#x27;, &#x27;Hemoglobins&#x27;, &#x27;S_score&#x27;, &#x27;G2M_score&#x27;, &#x27;phase&#x27;, &#x27;leiden&#x27;, &#x27;cell type&#x27;, &#x27;subset&#x27;, &#x27;C_scANVI&#x27;, &#x27;maturation_inhouse_three&#x27;, &#x27;final_celltypes&#x27;, &#x27;scCODA_sample_id&#x27;\n",
       "      var:\t&#x27;means&#x27;, &#x27;variances&#x27;, &#x27;residual_variances&#x27;, &#x27;highly_variable_rank&#x27;, &#x27;highly_variable_nbatches&#x27;, &#x27;highly_variable_intersection&#x27;, &#x27;highly_variable&#x27;\n",
       "      uns:\t&#x27;group_colors&#x27;, &#x27;hvg&#x27;, &#x27;leiden&#x27;, &#x27;neighbors&#x27;, &#x27;pca&#x27;, &#x27;pearson_residuals_normalization&#x27;, &#x27;subset_colors&#x27;, &#x27;umap&#x27;\n",
       "      obsm:\t&#x27;X_pca&#x27;, &#x27;X_umap&#x27;, &#x27;latent_gene_encoding&#x27;\n",
       "      varm:\t&#x27;PCs&#x27;\n",
       "      layers:\t&#x27;log_norm&#x27;, &#x27;raw&#x27;, &#x27;sqrtCPMedian&#x27;, &#x27;sqrt_norm&#x27;\n",
       "      obsp:\t&#x27;connectivities&#x27;, &#x27;distances&#x27;\n",
       "    coda:\t11 x 16\n",
       "      obs:\t&#x27;group&#x27;, &#x27;sample&#x27;\n",
       "      var:\t&#x27;n_cells&#x27;</pre>"
      ],
      "text/plain": [
       "MuData object with n_obs × n_vars = 37199 × 26929\n",
       "  2 modalities\n",
       "    rna:\t37188 x 26913\n",
       "      obs:\t'latent_RT_efficiency', 'latent_cell_probability', 'latent_scale', 'doublet_score', 'predicted_doublet', 'n_genes_by_counts', 'total_counts', 'total_counts_mt', 'pct_counts_mt', 'n_counts', 'n_genes', 'sample', 'group', 'batch', 'sex', 'mother', 'Hemoglobins', 'S_score', 'G2M_score', 'phase', 'leiden', 'cell type', 'subset', 'C_scANVI', 'maturation_inhouse_three', 'final_celltypes', 'scCODA_sample_id'\n",
       "      var:\t'means', 'variances', 'residual_variances', 'highly_variable_rank', 'highly_variable_nbatches', 'highly_variable_intersection', 'highly_variable'\n",
       "      uns:\t'group_colors', 'hvg', 'leiden', 'neighbors', 'pca', 'pearson_residuals_normalization', 'subset_colors', 'umap'\n",
       "      obsm:\t'X_pca', 'X_umap', 'latent_gene_encoding'\n",
       "      varm:\t'PCs'\n",
       "      layers:\t'log_norm', 'raw', 'sqrtCPMedian', 'sqrt_norm'\n",
       "      obsp:\t'connectivities', 'distances'\n",
       "    coda:\t11 x 16\n",
       "      obs:\t'group', 'sample'\n",
       "      var:\t'n_cells'"
      ]
     },
     "execution_count": 10,
     "metadata": {},
     "output_type": "execute_result"
    }
   ],
   "source": [
    "import sccoda\n",
    "import pertpy as pt\n",
    "sccoda_model = pt.tl.Sccoda()\n",
    "sccoda_data = sccoda_model.load(\n",
    "    adata,\n",
    "    type=\"cell_level\",\n",
    "    generate_sample_level=True,\n",
    "    cell_type_identifier=\"final_celltypes\",\n",
    "    sample_identifier=\"sample\",\n",
    "    covariate_obs=[\"group\"],\n",
    ")\n",
    "sccoda_data"
   ]
  },
  {
   "cell_type": "code",
   "execution_count": 20,
   "metadata": {},
   "outputs": [],
   "source": [
    "abund= abund[:,~np.any(abund.X==0, axis=0)]"
   ]
  },
  {
   "cell_type": "code",
   "execution_count": 21,
   "metadata": {},
   "outputs": [
    {
     "data": {
      "text/plain": [
       "View of AnnData object with n_obs × n_vars = 11 × 13\n",
       "    obs: 'group', 'sample'\n",
       "    var: 'n_cells'"
      ]
     },
     "execution_count": 21,
     "metadata": {},
     "output_type": "execute_result"
    }
   ],
   "source": [
    "abund"
   ]
  },
  {
   "cell_type": "code",
   "execution_count": 24,
   "metadata": {},
   "outputs": [],
   "source": [
    "abund = sccoda_data.mod[\"coda\"]\n",
    "## find a reference cell type\n",
    "# from sccoda.util import data_visualization as viz\n",
    "# viz.rel_abundance_dispersion_plot(\n",
    "#     data=abund,\n",
    "#     abundant_threshold=0.9\n",
    "# )\n",
    "# plt.show()\n"
   ]
  },
  {
   "cell_type": "code",
   "execution_count": 29,
   "metadata": {},
   "outputs": [
    {
     "name": "stdout",
     "output_type": "stream",
     "text": [
      "Zero counts encountered in data! Added a pseudocount of 0.5.\n"
     ]
    },
    {
     "name": "stderr",
     "output_type": "stream",
     "text": [
      "100%|██████████| 20000/20000 [01:21<00:00, 245.62it/s]\n"
     ]
    },
    {
     "name": "stdout",
     "output_type": "stream",
     "text": [
      "MCMC sampling finished. (103.201 sec)\n",
      "Acceptance rate: 52.8%\n",
      "Compositional Analysis summary:\n",
      "\n",
      "Data: 11 samples, 16 cell types\n",
      "Reference index: 15\n",
      "Formula: group\n",
      "\n",
      "Intercepts:\n",
      "                Final Parameter  Expected Sample\n",
      "Cell Type                                       \n",
      "B cells                  -0.865        22.028720\n",
      "CTB                       1.833       327.126531\n",
      "EVT                      -0.835        22.699594\n",
      "Endo-1                    1.358       203.435101\n",
      "Endo-2                   -0.032        50.670660\n",
      "Fibroblast                1.235       179.890268\n",
      "Hofbauer cells            1.059       150.859213\n",
      "Monocyte                 -0.304        38.603658\n",
      "Myofibroblast             0.458        82.710540\n",
      "NK cells                 -0.025        51.026599\n",
      "STB-a                     1.219       177.034927\n",
      "STB-b                     2.442       601.452186\n",
      "STB-c                     3.230      1322.589771\n",
      "T cells                  -0.751        24.688734\n",
      "eSTB                     -0.278        39.620515\n",
      "pCTB                      0.503        86.517529\n",
      "\n",
      "\n",
      "Effects:\n",
      "                                   Final Parameter  Expected Sample  \\\n",
      "Covariate          Cell Type                                          \n",
      "group[T.Obese_AGA] B cells                0.000000        22.823239   \n",
      "                   CTB                    0.000000       338.925149   \n",
      "                   EVT                    0.000000        23.518310   \n",
      "                   Endo-1                 0.139061       242.218451   \n",
      "                   Endo-2                 0.000000        52.498221   \n",
      "                   Fibroblast             0.000000       186.378450   \n",
      "                   Hofbauer cells         0.000000       156.300320   \n",
      "                   Monocyte               0.000000        39.995993   \n",
      "                   Myofibroblast          0.000000        85.693698   \n",
      "                   NK cells               0.000000        52.866998   \n",
      "                   STB-a                  0.000000       183.420125   \n",
      "                   STB-b                 -0.282564       469.756671   \n",
      "                   STB-c                  0.000000      1370.292205   \n",
      "                   T cells                0.000000        25.579194   \n",
      "                   eSTB                   0.000000        41.049526   \n",
      "                   pCTB                   0.000000        89.637995   \n",
      "group[T.Obese_LGA] B cells                0.000000        22.049034   \n",
      "                   CTB                    0.000000       327.428195   \n",
      "                   EVT                    0.000000        22.720527   \n",
      "                   Endo-1                 0.000000       203.622701   \n",
      "                   Endo-2                 0.000000        50.717386   \n",
      "                   Fibroblast             0.000000       180.056156   \n",
      "                   Hofbauer cells         0.000000       150.998330   \n",
      "                   Monocyte               0.000000        38.639257   \n",
      "                   Myofibroblast         -0.038388        79.669025   \n",
      "                   NK cells               0.000000        51.073654   \n",
      "                   STB-a                  0.000000       177.198182   \n",
      "                   STB-b                  0.000000       602.006822   \n",
      "                   STB-c                  0.000000      1323.809413   \n",
      "                   T cells                0.000000        24.711501   \n",
      "                   eSTB                   0.000000        39.657052   \n",
      "                   pCTB                   0.000000        86.597312   \n",
      "\n",
      "                                   log2-fold change  \n",
      "Covariate          Cell Type                         \n",
      "group[T.Obese_AGA] B cells                 0.051118  \n",
      "                   CTB                     0.051118  \n",
      "                   EVT                     0.051118  \n",
      "                   Endo-1                  0.251740  \n",
      "                   Endo-2                  0.051118  \n",
      "                   Fibroblast              0.051118  \n",
      "                   Hofbauer cells          0.051118  \n",
      "                   Monocyte                0.051118  \n",
      "                   Myofibroblast           0.051118  \n",
      "                   NK cells                0.051118  \n",
      "                   STB-a                   0.051118  \n",
      "                   STB-b                  -0.356536  \n",
      "                   STB-c                   0.051118  \n",
      "                   T cells                 0.051118  \n",
      "                   eSTB                    0.051118  \n",
      "                   pCTB                    0.051118  \n",
      "group[T.Obese_LGA] B cells                 0.001330  \n",
      "                   CTB                     0.001330  \n",
      "                   EVT                     0.001330  \n",
      "                   Endo-1                  0.001330  \n",
      "                   Endo-2                  0.001330  \n",
      "                   Fibroblast              0.001330  \n",
      "                   Hofbauer cells          0.001330  \n",
      "                   Monocyte                0.001330  \n",
      "                   Myofibroblast          -0.054052  \n",
      "                   NK cells                0.001330  \n",
      "                   STB-a                   0.001330  \n",
      "                   STB-b                   0.001330  \n",
      "                   STB-c                   0.001330  \n",
      "                   T cells                 0.001330  \n",
      "                   eSTB                    0.001330  \n",
      "                   pCTB                    0.001330  \n"
     ]
    }
   ],
   "source": [
    "# from sccoda.util import comp_ana as mod\n",
    "\n",
    "model_all = mod.CompositionalAnalysis(\n",
    "    abund, formula=\"group\", reference_cell_type=\"pCTB\")\n",
    "all_results = model_all.sample_hmc(num_results=20000)\n",
    "all_results.set_fdr(est_fdr=0.4)\n",
    "all_results.summary()"
   ]
  },
  {
   "cell_type": "code",
   "execution_count": null,
   "metadata": {},
   "outputs": [],
   "source": []
  }
 ],
 "metadata": {
  "kernelspec": {
   "display_name": "scanpy",
   "language": "python",
   "name": "python3"
  },
  "language_info": {
   "codemirror_mode": {
    "name": "ipython",
    "version": 3
   },
   "file_extension": ".py",
   "mimetype": "text/x-python",
   "name": "python",
   "nbconvert_exporter": "python",
   "pygments_lexer": "ipython3",
   "version": "3.10.8"
  }
 },
 "nbformat": 4,
 "nbformat_minor": 2
}
