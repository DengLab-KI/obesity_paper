{
 "cells": [
  {
   "cell_type": "code",
   "execution_count": 2,
   "metadata": {},
   "outputs": [],
   "source": [
    "import seaborn as sns\n",
    "import pandas as pd\n",
    "import os\n",
    "import numpy as np\n",
    "import matplotlib.pyplot as plt\n",
    "\n",
    "os.chdir('/mnt/data/hong/2022/human_placenta/')\n",
    "plt.style.use('src/general.mplstyle')"
   ]
  },
  {
   "cell_type": "code",
   "execution_count": 3,
   "metadata": {},
   "outputs": [],
   "source": [
    "genesets = pd.read_csv('data/Placenta_genesets.tsv', sep='\\t')"
   ]
  },
  {
   "cell_type": "code",
   "execution_count": 6,
   "metadata": {},
   "outputs": [],
   "source": [
    "transporters = set(genesets.query(\"geneset!='secretome'\")['genesymbol'])\n",
    "secretome = set(genesets.query(\"geneset=='secretome'\")['genesymbol'])"
   ]
  },
  {
   "cell_type": "code",
   "execution_count": 19,
   "metadata": {},
   "outputs": [],
   "source": [
    "def func(pct, allvals):\n",
    "    absolute = int(np.round(pct/100.*np.sum(allvals)))\n",
    "    return f\"{pct:.1f}%\\n({absolute:d})\"\n",
    "\n",
    "def transporters_pie(cell_type, function_set, function_name):\n",
    "    ## read in the data\n",
    "    df = pd.read_csv(f'output/DEGs/final_negbinom_all/score_files/DEG_score_pvalues_shuffle_tail_{cell_type}.tsv', sep='\\t')\n",
    "    common_set = set(df.query(\"convergence=='high'&p<0.05\")['Unnamed: 0'])\n",
    "    divergent_set = set(df.query(\"convergence=='low'&p<0.05\")['Unnamed: 0'])\n",
    "    common_transport = len(common_set&function_set)\n",
    "    divergent_transport = len(divergent_set&function_set)\n",
    "    non = len(function_set) - common_transport - divergent_transport\n",
    "    data = [common_transport, divergent_transport, non]\n",
    "    sense = ['common', 'divergent', 'no']\n",
    "    fig, ax = plt.subplots(figsize=(6, 3), subplot_kw=dict(aspect=\"equal\"))\n",
    "    wedges, texts, autotexts = ax.pie(data, autopct=lambda pct: func(pct, data),\n",
    "                                  textprops=dict(color=\"w\"))\n",
    "\n",
    "    ax.legend(wedges, sense,\n",
    "          title=\"\",\n",
    "          loc=\"center left\",\n",
    "          bbox_to_anchor=(1, 0, 0.5, 1))\n",
    "\n",
    "    plt.setp(autotexts, size=8, weight=\"bold\")\n",
    "\n",
    "\n",
    "    ## save the plot\n",
    "    plt.savefig(f'figures/DEGs/STBs/{cell_type}_{function_name}.pdf')\n",
    "    plt.close()"
   ]
  },
  {
   "cell_type": "code",
   "execution_count": 20,
   "metadata": {},
   "outputs": [],
   "source": [
    "transporters_pie('STBc', secretome, 'secretome')"
   ]
  },
  {
   "cell_type": "code",
   "execution_count": 21,
   "metadata": {},
   "outputs": [],
   "source": [
    "transporters_pie('STBb', secretome, 'secretome')\n"
   ]
  },
  {
   "cell_type": "code",
   "execution_count": null,
   "metadata": {},
   "outputs": [],
   "source": []
  }
 ],
 "metadata": {
  "kernelspec": {
   "display_name": "scanpy",
   "language": "python",
   "name": "python3"
  },
  "language_info": {
   "codemirror_mode": {
    "name": "ipython",
    "version": 3
   },
   "file_extension": ".py",
   "mimetype": "text/x-python",
   "name": "python",
   "nbconvert_exporter": "python",
   "pygments_lexer": "ipython3",
   "version": "3.10.6"
  }
 },
 "nbformat": 4,
 "nbformat_minor": 2
}
